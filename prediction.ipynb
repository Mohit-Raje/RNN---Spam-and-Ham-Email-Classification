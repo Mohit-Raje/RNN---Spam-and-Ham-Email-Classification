{
 "cells": [
  {
   "cell_type": "code",
   "execution_count": 12,
   "id": "ce013533",
   "metadata": {},
   "outputs": [
    {
     "name": "stderr",
     "output_type": "stream",
     "text": [
      "[nltk_data] Downloading package stopwords to\n",
      "[nltk_data]     C:\\Users\\Mohit\\AppData\\Roaming\\nltk_data...\n",
      "[nltk_data]   Package stopwords is already up-to-date!\n"
     ]
    }
   ],
   "source": [
    "import numpy as np\n",
    "import pandas as pd\n",
    "import re\n",
    "import nltk\n",
    "nltk.download('stopwords')\n",
    "from sklearn.preprocessing import LabelEncoder\n",
    "import tensorflow as tf\n",
    "from tensorflow.keras.preprocessing.text import Tokenizer\n",
    "from tensorflow.keras.preprocessing.sequence import pad_sequences\n",
    "from sklearn.model_selection import train_test_split\n",
    "from tensorflow.keras.models import Sequential\n",
    "from tensorflow.keras.layers import Embedding , SimpleRNN , Dense\n",
    "from tensorflow.keras.callbacks import EarlyStopping , TensorBoard\n",
    "from tensorflow.keras.models import load_model\n",
    "from nltk.stem import PorterStemmer\n",
    "from nltk.corpus import stopwords\n",
    "import datetime\n",
    "import pickle"
   ]
  },
  {
   "cell_type": "code",
   "execution_count": 2,
   "id": "772c0faf",
   "metadata": {},
   "outputs": [
    {
     "name": "stderr",
     "output_type": "stream",
     "text": [
      "WARNING:absl:Compiled the loaded model, but the compiled metrics have yet to be built. `model.compile_metrics` will be empty until you train or evaluate the model.\n"
     ]
    }
   ],
   "source": [
    "model=load_model('model.h5')"
   ]
  },
  {
   "cell_type": "code",
   "execution_count": 3,
   "id": "e41cd102",
   "metadata": {},
   "outputs": [
    {
     "data": {
      "text/html": [
       "<pre style=\"white-space:pre;overflow-x:auto;line-height:normal;font-family:Menlo,'DejaVu Sans Mono',consolas,'Courier New',monospace\"><span style=\"font-weight: bold\">Model: \"sequential_1\"</span>\n",
       "</pre>\n"
      ],
      "text/plain": [
       "\u001b[1mModel: \"sequential_1\"\u001b[0m\n"
      ]
     },
     "metadata": {},
     "output_type": "display_data"
    },
    {
     "data": {
      "text/html": [
       "<pre style=\"white-space:pre;overflow-x:auto;line-height:normal;font-family:Menlo,'DejaVu Sans Mono',consolas,'Courier New',monospace\">┏━━━━━━━━━━━━━━━━━━━━━━━━━━━━━━━━━┳━━━━━━━━━━━━━━━━━━━━━━━━┳━━━━━━━━━━━━━━━┓\n",
       "┃<span style=\"font-weight: bold\"> Layer (type)                    </span>┃<span style=\"font-weight: bold\"> Output Shape           </span>┃<span style=\"font-weight: bold\">       Param # </span>┃\n",
       "┡━━━━━━━━━━━━━━━━━━━━━━━━━━━━━━━━━╇━━━━━━━━━━━━━━━━━━━━━━━━╇━━━━━━━━━━━━━━━┩\n",
       "│ embedding (<span style=\"color: #0087ff; text-decoration-color: #0087ff\">Embedding</span>)           │ (<span style=\"color: #00d7ff; text-decoration-color: #00d7ff\">None</span>, <span style=\"color: #00af00; text-decoration-color: #00af00\">500</span>, <span style=\"color: #00af00; text-decoration-color: #00af00\">128</span>)       │     <span style=\"color: #00af00; text-decoration-color: #00af00\">1,280,000</span> │\n",
       "├─────────────────────────────────┼────────────────────────┼───────────────┤\n",
       "│ simple_rnn (<span style=\"color: #0087ff; text-decoration-color: #0087ff\">SimpleRNN</span>)          │ (<span style=\"color: #00d7ff; text-decoration-color: #00d7ff\">None</span>, <span style=\"color: #00af00; text-decoration-color: #00af00\">128</span>)            │        <span style=\"color: #00af00; text-decoration-color: #00af00\">32,896</span> │\n",
       "├─────────────────────────────────┼────────────────────────┼───────────────┤\n",
       "│ dense (<span style=\"color: #0087ff; text-decoration-color: #0087ff\">Dense</span>)                   │ (<span style=\"color: #00d7ff; text-decoration-color: #00d7ff\">None</span>, <span style=\"color: #00af00; text-decoration-color: #00af00\">1</span>)              │           <span style=\"color: #00af00; text-decoration-color: #00af00\">129</span> │\n",
       "└─────────────────────────────────┴────────────────────────┴───────────────┘\n",
       "</pre>\n"
      ],
      "text/plain": [
       "┏━━━━━━━━━━━━━━━━━━━━━━━━━━━━━━━━━┳━━━━━━━━━━━━━━━━━━━━━━━━┳━━━━━━━━━━━━━━━┓\n",
       "┃\u001b[1m \u001b[0m\u001b[1mLayer (type)                   \u001b[0m\u001b[1m \u001b[0m┃\u001b[1m \u001b[0m\u001b[1mOutput Shape          \u001b[0m\u001b[1m \u001b[0m┃\u001b[1m \u001b[0m\u001b[1m      Param #\u001b[0m\u001b[1m \u001b[0m┃\n",
       "┡━━━━━━━━━━━━━━━━━━━━━━━━━━━━━━━━━╇━━━━━━━━━━━━━━━━━━━━━━━━╇━━━━━━━━━━━━━━━┩\n",
       "│ embedding (\u001b[38;5;33mEmbedding\u001b[0m)           │ (\u001b[38;5;45mNone\u001b[0m, \u001b[38;5;34m500\u001b[0m, \u001b[38;5;34m128\u001b[0m)       │     \u001b[38;5;34m1,280,000\u001b[0m │\n",
       "├─────────────────────────────────┼────────────────────────┼───────────────┤\n",
       "│ simple_rnn (\u001b[38;5;33mSimpleRNN\u001b[0m)          │ (\u001b[38;5;45mNone\u001b[0m, \u001b[38;5;34m128\u001b[0m)            │        \u001b[38;5;34m32,896\u001b[0m │\n",
       "├─────────────────────────────────┼────────────────────────┼───────────────┤\n",
       "│ dense (\u001b[38;5;33mDense\u001b[0m)                   │ (\u001b[38;5;45mNone\u001b[0m, \u001b[38;5;34m1\u001b[0m)              │           \u001b[38;5;34m129\u001b[0m │\n",
       "└─────────────────────────────────┴────────────────────────┴───────────────┘\n"
      ]
     },
     "metadata": {},
     "output_type": "display_data"
    },
    {
     "data": {
      "text/html": [
       "<pre style=\"white-space:pre;overflow-x:auto;line-height:normal;font-family:Menlo,'DejaVu Sans Mono',consolas,'Courier New',monospace\"><span style=\"font-weight: bold\"> Total params: </span><span style=\"color: #00af00; text-decoration-color: #00af00\">1,313,027</span> (5.01 MB)\n",
       "</pre>\n"
      ],
      "text/plain": [
       "\u001b[1m Total params: \u001b[0m\u001b[38;5;34m1,313,027\u001b[0m (5.01 MB)\n"
      ]
     },
     "metadata": {},
     "output_type": "display_data"
    },
    {
     "data": {
      "text/html": [
       "<pre style=\"white-space:pre;overflow-x:auto;line-height:normal;font-family:Menlo,'DejaVu Sans Mono',consolas,'Courier New',monospace\"><span style=\"font-weight: bold\"> Trainable params: </span><span style=\"color: #00af00; text-decoration-color: #00af00\">1,313,025</span> (5.01 MB)\n",
       "</pre>\n"
      ],
      "text/plain": [
       "\u001b[1m Trainable params: \u001b[0m\u001b[38;5;34m1,313,025\u001b[0m (5.01 MB)\n"
      ]
     },
     "metadata": {},
     "output_type": "display_data"
    },
    {
     "data": {
      "text/html": [
       "<pre style=\"white-space:pre;overflow-x:auto;line-height:normal;font-family:Menlo,'DejaVu Sans Mono',consolas,'Courier New',monospace\"><span style=\"font-weight: bold\"> Non-trainable params: </span><span style=\"color: #00af00; text-decoration-color: #00af00\">0</span> (0.00 B)\n",
       "</pre>\n"
      ],
      "text/plain": [
       "\u001b[1m Non-trainable params: \u001b[0m\u001b[38;5;34m0\u001b[0m (0.00 B)\n"
      ]
     },
     "metadata": {},
     "output_type": "display_data"
    },
    {
     "data": {
      "text/html": [
       "<pre style=\"white-space:pre;overflow-x:auto;line-height:normal;font-family:Menlo,'DejaVu Sans Mono',consolas,'Courier New',monospace\"><span style=\"font-weight: bold\"> Optimizer params: </span><span style=\"color: #00af00; text-decoration-color: #00af00\">2</span> (12.00 B)\n",
       "</pre>\n"
      ],
      "text/plain": [
       "\u001b[1m Optimizer params: \u001b[0m\u001b[38;5;34m2\u001b[0m (12.00 B)\n"
      ]
     },
     "metadata": {},
     "output_type": "display_data"
    }
   ],
   "source": [
    "model.summary()"
   ]
  },
  {
   "cell_type": "code",
   "execution_count": 5,
   "id": "c36dcece",
   "metadata": {},
   "outputs": [
    {
     "data": {
      "text/plain": [
       "[array([[ 0.13383146, -0.03290616, -0.05809052, ...,  0.01967067,\n",
       "          0.19606653, -0.01614201],\n",
       "        [-0.02528405, -0.02435291, -0.00292114, ...,  0.01280126,\n",
       "          0.03746379,  0.000666  ],\n",
       "        [-0.0328173 , -0.00855344, -0.01279134, ..., -0.02399154,\n",
       "         -0.05791276,  0.10278855],\n",
       "        ...,\n",
       "        [ 0.01315242, -0.02130634,  0.00021758, ...,  0.04535646,\n",
       "          0.04624068,  0.00832478],\n",
       "        [ 0.02500044, -0.04855026,  0.0308511 , ...,  0.02750278,\n",
       "          0.01529292,  0.02269349],\n",
       "        [ 0.00941496,  0.04880268,  0.01916846, ...,  0.02943027,\n",
       "         -0.00808353, -0.0210886 ]], dtype=float32),\n",
       " array([[-0.1367121 , -0.11864655,  0.1281474 , ...,  0.0873216 ,\n",
       "          0.06315236,  0.13095364],\n",
       "        [ 0.0793447 ,  0.09727192,  0.02803271, ..., -0.02981564,\n",
       "          0.0590229 , -0.09707949],\n",
       "        [ 0.10161565, -0.11294707,  0.10761014, ..., -0.15786466,\n",
       "         -0.00253513,  0.0335158 ],\n",
       "        ...,\n",
       "        [ 0.1050588 ,  0.02835315, -0.13239074, ..., -0.0109861 ,\n",
       "          0.13862397,  0.02591231],\n",
       "        [ 0.07417092, -0.07881589, -0.08857916, ..., -0.14178039,\n",
       "         -0.08837879,  0.0433234 ],\n",
       "        [-0.05440268,  0.05529305,  0.05554433, ...,  0.10703642,\n",
       "          0.01794279,  0.0730134 ]], dtype=float32),\n",
       " array([[ 0.09437649, -0.05932285,  0.17754461, ..., -0.18796474,\n",
       "         -0.05390084, -0.14542648],\n",
       "        [ 0.02550266,  0.02475558,  0.03367034, ...,  0.00825029,\n",
       "          0.0367518 , -0.16800995],\n",
       "        [ 0.14605325, -0.08292497, -0.10012894, ..., -0.06980643,\n",
       "          0.11279938,  0.03348417],\n",
       "        ...,\n",
       "        [ 0.06373395,  0.13338163,  0.00906602, ...,  0.11847881,\n",
       "         -0.13754703,  0.07320123],\n",
       "        [ 0.11031996, -0.11862518,  0.04835938, ...,  0.18983296,\n",
       "          0.008365  ,  0.05013124],\n",
       "        [ 0.07216793, -0.03189617, -0.00923342, ..., -0.08659081,\n",
       "         -0.07267477,  0.07946091]], dtype=float32),\n",
       " array([ 2.51825154e-02,  6.93944469e-03,  1.84564409e-03,  1.26345512e-02,\n",
       "         9.38703306e-04, -2.55214721e-02, -8.67492927e-04, -4.25900659e-03,\n",
       "         8.51489417e-03,  1.02270776e-02, -6.40179403e-03,  9.83142015e-03,\n",
       "        -8.65237229e-03,  2.58743484e-02,  1.74435545e-02, -1.23446630e-02,\n",
       "         8.20987951e-03,  2.16872338e-02,  2.25471053e-02,  1.19170193e-02,\n",
       "         1.19509893e-02,  1.72854979e-02,  2.42583770e-02, -2.81916419e-03,\n",
       "        -2.12508682e-02, -1.49338664e-02, -1.36224823e-02, -1.10465363e-02,\n",
       "         1.98630206e-02,  1.95049681e-03,  2.34659901e-03, -1.72194815e-03,\n",
       "         6.51806942e-04, -1.64265055e-02, -1.07958186e-02, -5.33910142e-03,\n",
       "         1.48838665e-02, -4.98093152e-03, -5.76113397e-03, -6.15046942e-04,\n",
       "         1.32601690e-02, -2.07416024e-02,  1.90439578e-02,  1.01289283e-02,\n",
       "        -9.05128103e-03,  1.18168434e-02,  1.00568328e-02, -4.05476103e-03,\n",
       "         8.50070268e-03,  1.62635501e-02,  1.65483803e-02, -9.99380555e-03,\n",
       "         5.73734706e-03,  9.30149853e-03,  1.61119718e-02,  1.10350363e-02,\n",
       "         2.93848920e-04, -1.19408909e-02, -6.26154870e-05,  8.18767585e-03,\n",
       "         2.12537195e-03, -6.41395245e-03, -2.30596904e-02,  1.11885099e-02,\n",
       "         5.67913009e-03,  2.42825579e-02,  1.65066421e-02,  3.14787799e-03,\n",
       "        -1.73359946e-03,  9.97851137e-03,  1.05902171e-02,  5.10510616e-03,\n",
       "         1.76798948e-03,  5.85824531e-03,  7.57187186e-03, -9.54972487e-03,\n",
       "        -1.00686327e-02,  1.26422364e-02,  6.03142241e-03, -2.28693523e-02,\n",
       "        -2.82889209e-03,  9.24503244e-03,  8.25227238e-03,  2.33920738e-02,\n",
       "         3.02634444e-02,  3.99763174e-02,  1.34369638e-03, -2.93993927e-03,\n",
       "         1.53214335e-02,  8.32431763e-03, -1.42144831e-02, -1.45631861e-02,\n",
       "         2.57957857e-02, -1.43661099e-02,  1.58562278e-03,  8.89604818e-03,\n",
       "        -3.92143056e-03,  2.05377606e-03,  4.08787467e-03,  2.33196300e-02,\n",
       "         7.31418328e-03,  2.71495599e-02,  2.65825074e-03, -1.09713366e-02,\n",
       "         4.40842845e-03,  2.79044006e-02,  5.84156532e-03,  1.24824271e-02,\n",
       "        -5.91833331e-03,  8.77737626e-03,  9.57527012e-03, -8.74537788e-03,\n",
       "        -1.47122296e-03,  4.14593238e-03, -1.34393834e-02,  1.93060760e-03,\n",
       "        -5.41438255e-03,  2.57273926e-03,  9.09407798e-04,  1.55500881e-02,\n",
       "        -6.47576852e-03,  4.54564858e-03,  5.57354046e-03,  1.03976279e-02,\n",
       "         1.48194954e-02,  1.28481137e-02,  5.05863503e-03, -8.01311899e-03],\n",
       "       dtype=float32),\n",
       " array([[ 0.22365017],\n",
       "        [-0.1564021 ],\n",
       "        [-0.04196297],\n",
       "        [ 0.21359202],\n",
       "        [-0.0341246 ],\n",
       "        [ 0.09835625],\n",
       "        [ 0.07953755],\n",
       "        [-0.18050317],\n",
       "        [-0.09032324],\n",
       "        [-0.01417268],\n",
       "        [ 0.04817601],\n",
       "        [-0.13651183],\n",
       "        [ 0.08887149],\n",
       "        [ 0.03254147],\n",
       "        [ 0.11229543],\n",
       "        [ 0.06773899],\n",
       "        [-0.08966444],\n",
       "        [ 0.11002391],\n",
       "        [ 0.19994116],\n",
       "        [-0.18940902],\n",
       "        [-0.14835057],\n",
       "        [-0.01972383],\n",
       "        [-0.24302432],\n",
       "        [ 0.05183631],\n",
       "        [ 0.12309347],\n",
       "        [ 0.041024  ],\n",
       "        [-0.02945998],\n",
       "        [ 0.01072456],\n",
       "        [ 0.0469565 ],\n",
       "        [-0.11075957],\n",
       "        [ 0.16520578],\n",
       "        [ 0.17548785],\n",
       "        [ 0.0782589 ],\n",
       "        [ 0.18016988],\n",
       "        [ 0.03866104],\n",
       "        [-0.21077059],\n",
       "        [ 0.2861912 ],\n",
       "        [ 0.05290932],\n",
       "        [ 0.00423761],\n",
       "        [-0.07673732],\n",
       "        [-0.07665558],\n",
       "        [-0.00153364],\n",
       "        [ 0.22797194],\n",
       "        [-0.04559594],\n",
       "        [-0.11896323],\n",
       "        [-0.17903951],\n",
       "        [ 0.1843461 ],\n",
       "        [-0.00264905],\n",
       "        [-0.23922311],\n",
       "        [-0.21094315],\n",
       "        [ 0.05733036],\n",
       "        [ 0.13651575],\n",
       "        [-0.15242465],\n",
       "        [-0.1827688 ],\n",
       "        [-0.1349651 ],\n",
       "        [-0.04089499],\n",
       "        [ 0.11281627],\n",
       "        [-0.09767537],\n",
       "        [-0.12642184],\n",
       "        [-0.08429286],\n",
       "        [-0.12023738],\n",
       "        [ 0.05251189],\n",
       "        [ 0.0015733 ],\n",
       "        [ 0.05777329],\n",
       "        [-0.06737451],\n",
       "        [ 0.22866993],\n",
       "        [ 0.09553936],\n",
       "        [-0.10296763],\n",
       "        [-0.03323254],\n",
       "        [-0.26423183],\n",
       "        [-0.13898821],\n",
       "        [ 0.16140443],\n",
       "        [ 0.06178012],\n",
       "        [ 0.09335052],\n",
       "        [ 0.21122813],\n",
       "        [ 0.20577948],\n",
       "        [ 0.03974744],\n",
       "        [ 0.16479833],\n",
       "        [-0.1344083 ],\n",
       "        [-0.03989195],\n",
       "        [ 0.21329266],\n",
       "        [ 0.1421448 ],\n",
       "        [ 0.10201038],\n",
       "        [ 0.18936601],\n",
       "        [-0.03404282],\n",
       "        [ 0.18610947],\n",
       "        [ 0.10481164],\n",
       "        [-0.02620065],\n",
       "        [ 0.2208362 ],\n",
       "        [-0.11798987],\n",
       "        [-0.1191721 ],\n",
       "        [ 0.09976627],\n",
       "        [ 0.08668178],\n",
       "        [ 0.14793806],\n",
       "        [ 0.15372612],\n",
       "        [-0.15469882],\n",
       "        [ 0.16601753],\n",
       "        [ 0.21192613],\n",
       "        [-0.11174399],\n",
       "        [-0.23337431],\n",
       "        [ 0.03607349],\n",
       "        [-0.1468385 ],\n",
       "        [ 0.10691396],\n",
       "        [-0.0661078 ],\n",
       "        [-0.20415792],\n",
       "        [ 0.05083162],\n",
       "        [-0.13536066],\n",
       "        [-0.14208826],\n",
       "        [ 0.10607798],\n",
       "        [-0.11903037],\n",
       "        [-0.22280484],\n",
       "        [ 0.00820488],\n",
       "        [-0.02665447],\n",
       "        [ 0.20738116],\n",
       "        [ 0.08710165],\n",
       "        [ 0.07989605],\n",
       "        [ 0.13680166],\n",
       "        [-0.07136923],\n",
       "        [-0.05445156],\n",
       "        [-0.14784808],\n",
       "        [ 0.0061318 ],\n",
       "        [-0.0546899 ],\n",
       "        [-0.12010447],\n",
       "        [-0.03662279],\n",
       "        [ 0.02004861],\n",
       "        [-0.15396158],\n",
       "        [-0.11671382],\n",
       "        [ 0.1419642 ]], dtype=float32),\n",
       " array([-0.01627154], dtype=float32)]"
      ]
     },
     "execution_count": 5,
     "metadata": {},
     "output_type": "execute_result"
    }
   ],
   "source": [
    "model.get_weights()"
   ]
  },
  {
   "cell_type": "code",
   "execution_count": 14,
   "id": "77dfc637",
   "metadata": {},
   "outputs": [],
   "source": [
    "with open('tokenizer.pkl' , 'rb') as file:\n",
    "    tokenizer=pickle.load(file)"
   ]
  },
  {
   "cell_type": "code",
   "execution_count": 7,
   "id": "969640dc",
   "metadata": {},
   "outputs": [],
   "source": [
    "ps=PorterStemmer()"
   ]
  },
  {
   "cell_type": "code",
   "execution_count": 35,
   "id": "25a8428b",
   "metadata": {},
   "outputs": [],
   "source": [
    "def preprocess_text(text):\n",
    "    review=re.sub('[^a-zA-Z]' , ' ' , text)\n",
    "    review=review.lower()\n",
    "    review=review.split()\n",
    "    review=[ps.stem(word) for word in review if word not in stopwords.words('english')]\n",
    "    review=' '.join(review)\n",
    "    return review\n",
    "    \n",
    "def encode_and_pad_text(text):\n",
    "    sequences=tokenizer.texts_to_sequences([text])\n",
    "    padded_text=pad_sequences(sequences , maxlen=500 , padding='pre')\n",
    "    return padded_text"
   ]
  },
  {
   "cell_type": "code",
   "execution_count": 36,
   "id": "980359bf",
   "metadata": {},
   "outputs": [
    {
     "name": "stdout",
     "output_type": "stream",
     "text": [
      "hey bumper offer credit card check\n",
      "[[  0   0   0   0   0   0   0   0   0   0   0   0   0   0   0   0   0   0\n",
      "    0   0   0   0   0   0   0   0   0   0   0   0   0   0   0   0   0   0\n",
      "    0   0   0   0   0   0   0   0   0   0   0   0   0   0   0   0   0   0\n",
      "    0   0   0   0   0   0   0   0   0   0   0   0   0   0   0   0   0   0\n",
      "    0   0   0   0   0   0   0   0   0   0   0   0   0   0   0   0   0   0\n",
      "    0   0   0   0   0   0   0   0   0   0   0   0   0   0   0   0   0   0\n",
      "    0   0   0   0   0   0   0   0   0   0   0   0   0   0   0   0   0   0\n",
      "    0   0   0   0   0   0   0   0   0   0   0   0   0   0   0   0   0   0\n",
      "    0   0   0   0   0   0   0   0   0   0   0   0   0   0   0   0   0   0\n",
      "    0   0   0   0   0   0   0   0   0   0   0   0   0   0   0   0   0   0\n",
      "    0   0   0   0   0   0   0   0   0   0   0   0   0   0   0   0   0   0\n",
      "    0   0   0   0   0   0   0   0   0   0   0   0   0   0   0   0   0   0\n",
      "    0   0   0   0   0   0   0   0   0   0   0   0   0   0   0   0   0   0\n",
      "    0   0   0   0   0   0   0   0   0   0   0   0   0   0   0   0   0   0\n",
      "    0   0   0   0   0   0   0   0   0   0   0   0   0   0   0   0   0   0\n",
      "    0   0   0   0   0   0   0   0   0   0   0   0   0   0   0   0   0   0\n",
      "    0   0   0   0   0   0   0   0   0   0   0   0   0   0   0   0   0   0\n",
      "    0   0   0   0   0   0   0   0   0   0   0   0   0   0   0   0   0   0\n",
      "    0   0   0   0   0   0   0   0   0   0   0   0   0   0   0   0   0   0\n",
      "    0   0   0   0   0   0   0   0   0   0   0   0   0   0   0   0   0   0\n",
      "    0   0   0   0   0   0   0   0   0   0   0   0   0   0   0   0   0   0\n",
      "    0   0   0   0   0   0   0   0   0   0   0   0   0   0   0   0   0   0\n",
      "    0   0   0   0   0   0   0   0   0   0   0   0   0   0   0   0   0   0\n",
      "    0   0   0   0   0   0   0   0   0   0   0   0   0   0   0   0   0   0\n",
      "    0   0   0   0   0   0   0   0   0   0   0   0   0   0   0   0   0   0\n",
      "    0   0   0   0   0   0   0   0   0   0   0   0   0   0   0   0   0   0\n",
      "    0   0   0   0   0   0   0   0   0   0   0   0   0   0   0   0   0   0\n",
      "    0   0   0   0   0   0   0   0  76   1 194 374 531 172]]\n",
      "(1, 500)\n"
     ]
    }
   ],
   "source": [
    "text = 'Hey there is a bumper offer on your credit card , check now'\n",
    "preprocessed_text=preprocess_text(text)\n",
    "print(preprocessed_text)\n",
    "encoded_text=encode_and_pad_text(preprocessed_text)\n",
    "print(encoded_text)\n",
    "print(encoded_text.shape)"
   ]
  },
  {
   "cell_type": "code",
   "execution_count": 39,
   "id": "72edc3e1",
   "metadata": {},
   "outputs": [
    {
     "name": "stdout",
     "output_type": "stream",
     "text": [
      "\u001b[1m1/1\u001b[0m \u001b[32m━━━━━━━━━━━━━━━━━━━━\u001b[0m\u001b[37m\u001b[0m \u001b[1m0s\u001b[0m 46ms/step\n",
      "[[0.02820978]]\n"
     ]
    },
    {
     "data": {
      "text/plain": [
       "np.float32(0.028209776)"
      ]
     },
     "execution_count": 39,
     "metadata": {},
     "output_type": "execute_result"
    }
   ],
   "source": [
    "temp_array=model.predict(encoded_text)\n",
    "print(temp_array)\n",
    "temp_array[0][0]"
   ]
  },
  {
   "cell_type": "code",
   "execution_count": 80,
   "id": "450c57f2",
   "metadata": {},
   "outputs": [],
   "source": [
    "def prediction(text):\n",
    "    preprocessed_text=preprocess_text(text)\n",
    "    encoded_text=encode_and_pad_text(preprocessed_text)\n",
    "    prediction=model.predict(encoded_text)\n",
    "    \n",
    "    if prediction[0][0] < 0.5:\n",
    "        target='ham'\n",
    "    else:\n",
    "        target='spam'\n",
    "    return target , prediction"
   ]
  },
  {
   "cell_type": "code",
   "execution_count": 81,
   "id": "fd070b67",
   "metadata": {},
   "outputs": [
    {
     "name": "stdout",
     "output_type": "stream",
     "text": [
      "\u001b[1m1/1\u001b[0m \u001b[32m━━━━━━━━━━━━━━━━━━━━\u001b[0m\u001b[37m\u001b[0m \u001b[1m0s\u001b[0m 48ms/step\n",
      "ham\n",
      "[[0.00949941]]\n"
     ]
    }
   ],
   "source": [
    "target , proba=prediction(text)\n",
    "\n",
    "print(target)\n",
    "print(proba)"
   ]
  },
  {
   "cell_type": "code",
   "execution_count": 82,
   "id": "8ce0e92d",
   "metadata": {},
   "outputs": [
    {
     "name": "stdout",
     "output_type": "stream",
     "text": [
      "0.009499415\n"
     ]
    }
   ],
   "source": [
    "print(proba.flatten()[0])"
   ]
  },
  {
   "cell_type": "code",
   "execution_count": 83,
   "id": "66be32b7",
   "metadata": {},
   "outputs": [
    {
     "name": "stdout",
     "output_type": "stream",
     "text": [
      "\u001b[1m1/1\u001b[0m \u001b[32m━━━━━━━━━━━━━━━━━━━━\u001b[0m\u001b[37m\u001b[0m \u001b[1m0s\u001b[0m 43ms/step\n",
      "ham [[0.00949941]]\n"
     ]
    }
   ],
   "source": [
    "text='Go until jurong point, crazy.. Available only in bugis n great world la e buffet... Cine there got amore wat...'\n",
    "target , proba = prediction(text)\n",
    "print(target , proba)"
   ]
  },
  {
   "cell_type": "code",
   "execution_count": 87,
   "id": "72a5fbe6",
   "metadata": {},
   "outputs": [
    {
     "name": "stdout",
     "output_type": "stream",
     "text": [
      "\u001b[1m1/1\u001b[0m \u001b[32m━━━━━━━━━━━━━━━━━━━━\u001b[0m\u001b[37m\u001b[0m \u001b[1m0s\u001b[0m 55ms/step\n",
      "spam [[0.99999994]]\n"
     ]
    }
   ],
   "source": [
    "text = \"WINNER!! As a valued network customer you have been selected to receivea å£900 prize reward! To claim call 09061701461. Claim code KL341. Valid 12 hours only.\"\n",
    "target , proba=prediction(text)\n",
    "print(target , proba)"
   ]
  },
  {
   "cell_type": "code",
   "execution_count": null,
   "id": "52411129",
   "metadata": {},
   "outputs": [],
   "source": []
  }
 ],
 "metadata": {
  "kernelspec": {
   "display_name": "Python 3",
   "language": "python",
   "name": "python3"
  },
  "language_info": {
   "codemirror_mode": {
    "name": "ipython",
    "version": 3
   },
   "file_extension": ".py",
   "mimetype": "text/x-python",
   "name": "python",
   "nbconvert_exporter": "python",
   "pygments_lexer": "ipython3",
   "version": "3.11.0"
  }
 },
 "nbformat": 4,
 "nbformat_minor": 5
}
